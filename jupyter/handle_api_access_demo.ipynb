{
 "cells": [
  {
   "cell_type": "markdown",
   "metadata": {},
   "source": [
    "# NFDI4Cat Handle API access demonstration\n",
    "\n",
    "This notebook demonstrates how to access the NFDI4Cat Handle API using Python. The Handle API is a RESTful API that allows you to create, read, update, and delete handles in the NFDI4Cat Handle System. The Handle System is a distributed information system that assigns persistent identifiers, called handles, to digital objects and provides a mechanism for resolving those handles to the objects they identify."
   ]
  },
  {
   "cell_type": "code",
   "execution_count": 1,
   "metadata": {},
   "outputs": [],
   "source": [
    "import os\n",
    "import asyncio\n",
    "import httpx \n",
    "import json\n",
    "import base64\n",
    "from datetime import datetime\n",
    "\n",
    "from pydantic import BaseModel, EmailStr, HttpUrl\n",
    "from typing import List, Union, Optional"
   ]
  },
  {
   "cell_type": "code",
   "execution_count": null,
   "metadata": {},
   "outputs": [],
   "source": [
    "api_user = os.environ['NFDI4CAT_PID_API_USER']\n",
    "password = os.environ['NFDI4CAT_PID_API_PASSWORD']"
   ]
  },
  {
   "cell_type": "code",
   "execution_count": null,
   "metadata": {},
   "outputs": [],
   "source": [
    "test_api_base_url = \"http://api.nfdi4cat.org/tes/v1\""
   ]
  },
  {
   "cell_type": "code",
   "execution_count": null,
   "metadata": {},
   "outputs": [],
   "source": [
    "# test connection\n",
    "res = httpx.get(f\"{test_api_base_url}/ping\")"
   ]
  },
  {
   "cell_type": "markdown",
   "metadata": {},
   "source": [
    "## Basic REST API authentication"
   ]
  },
  {
   "cell_type": "code",
   "execution_count": null,
   "metadata": {},
   "outputs": [],
   "source": [
    "pid_client = httpx.Client(auth=(api_user, password))\n"
   ]
  },
  {
   "cell_type": "markdown",
   "metadata": {},
   "source": [
    "## Reading a handle"
   ]
  },
  {
   "cell_type": "code",
   "execution_count": null,
   "metadata": {},
   "outputs": [],
   "source": []
  },
  {
   "cell_type": "markdown",
   "metadata": {},
   "source": [
    "## Create a new single handle"
   ]
  },
  {
   "cell_type": "code",
   "execution_count": null,
   "metadata": {},
   "outputs": [],
   "source": [
    "handle_create_url = f\"{test_api_base_url}/handle/create\"\n",
    "\n",
    "handle_creat_request = {\n",
    "    \"prefix\": \"21.11101\",\n",
    "    \"suffix\": \"test\",\n",
    "    \"url\": \"https://nfdi4cat.org\",\n",
    "    \"type\": \"URL\",\n",
    "    \"checksum\": \"SHA1:1234567890\",\n",
    "    \"checksum_type\": \"SHA1\"\n",
    "}\n",
    "\n",
    "res = pid_client.post(handle_create_url, json=handle_creat_request)\n",
    "print(res.json())"
   ]
  },
  {
   "cell_type": "markdown",
   "metadata": {},
   "source": [
    "## Adding metadata to a handle"
   ]
  },
  {
   "cell_type": "code",
   "execution_count": null,
   "metadata": {},
   "outputs": [],
   "source": [
    "# adding metadata to a handle record, based on LinkML data model"
   ]
  },
  {
   "cell_type": "markdown",
   "metadata": {},
   "source": [
    "## Changing metadata of a handle"
   ]
  },
  {
   "cell_type": "code",
   "execution_count": null,
   "metadata": {},
   "outputs": [],
   "source": []
  },
  {
   "cell_type": "markdown",
   "metadata": {},
   "source": [
    "## Creating an alias for a handle"
   ]
  },
  {
   "cell_type": "code",
   "execution_count": null,
   "metadata": {},
   "outputs": [],
   "source": []
  },
  {
   "cell_type": "markdown",
   "metadata": {},
   "source": [
    "## Hiding PID from public view"
   ]
  },
  {
   "cell_type": "code",
   "execution_count": null,
   "metadata": {},
   "outputs": [],
   "source": []
  },
  {
   "cell_type": "markdown",
   "metadata": {},
   "source": [
    "## Delete a handle"
   ]
  },
  {
   "cell_type": "markdown",
   "metadata": {},
   "source": []
  }
 ],
 "metadata": {
  "kernelspec": {
   "display_name": "lara10",
   "language": "python",
   "name": "python3"
  },
  "language_info": {
   "codemirror_mode": {
    "name": "ipython",
    "version": 3
   },
   "file_extension": ".py",
   "mimetype": "text/x-python",
   "name": "python",
   "nbconvert_exporter": "python",
   "pygments_lexer": "ipython3",
   "version": "3.10.12"
  }
 },
 "nbformat": 4,
 "nbformat_minor": 2
}
