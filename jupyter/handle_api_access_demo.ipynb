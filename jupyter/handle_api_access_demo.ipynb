{
 "cells": [
  {
   "cell_type": "markdown",
   "metadata": {},
   "source": [
    "# NFDI4Cat Handle API access demonstration\n",
    "\n",
    "This notebook demonstrates how to access the NFDI4Cat Handle API using Python. The Handle API is a RESTful API that allows you to create, read, update, and delete handles in the NFDI4Cat Handle System. The Handle System is a distributed information system that assigns persistent identifiers, called handles, to digital objects and provides a mechanism for resolving those handles to the objects they identify."
   ]
  },
  {
   "cell_type": "code",
   "execution_count": 1,
   "metadata": {},
   "outputs": [],
   "source": [
    "import os\n",
    "import asyncio\n",
    "import httpx \n",
    "import json\n",
    "import base64\n",
    "from datetime import datetime\n",
    "\n",
    "from pydantic import BaseModel, EmailStr, HttpUrl\n",
    "from typing import List, Union, Optional"
   ]
  },
  {
   "cell_type": "code",
   "execution_count": null,
   "metadata": {},
   "outputs": [],
   "source": [
    "api_user = os.environ['NFDI4CAT_PID_API_USER']\n",
    "password = os.environ['NFDI4CAT_PID_API_PASSWORD']\n",
    "\n",
    "api_user, password"
   ]
  },
  {
   "cell_type": "code",
   "execution_count": 8,
   "metadata": {},
   "outputs": [],
   "source": [
    "test_api_base_url = \"https://api.nfdi4cat.org/testpid/v1/4cat\""
   ]
  },
  {
   "cell_type": "code",
   "execution_count": null,
   "metadata": {},
   "outputs": [],
   "source": [
    "# test connection\n",
    "res = httpx.get(f\"{test_api_base_url}\")\n",
    "res"
   ]
  },
  {
   "cell_type": "markdown",
   "metadata": {},
   "source": [
    "## Basic REST API authentication"
   ]
  },
  {
   "cell_type": "code",
   "execution_count": 10,
   "metadata": {},
   "outputs": [],
   "source": [
    "pid_client = httpx.Client(auth=(api_user, password))"
   ]
  },
  {
   "cell_type": "markdown",
   "metadata": {},
   "source": [
    "## Create a new single handle"
   ]
  },
  {
   "cell_type": "code",
   "execution_count": null,
   "metadata": {},
   "outputs": [],
   "source": [
    "handle_scheme = \"samples\" # can be sample, device, substance, ...\n",
    "\n",
    "target_url = \"https://lara.org/s3/datum_1\"\n",
    "\n",
    "handle_create_url = f\"{test_api_base_url}/{handle_scheme}/\"\n",
    "\n",
    "params = {'data': target_url}\n",
    "\n",
    "res = pid_client.put(handle_create_url, params=params)\n",
    "display(res.url)\n",
    "res"
   ]
  },
  {
   "cell_type": "code",
   "execution_count": null,
   "metadata": {},
   "outputs": [],
   "source": [
    "res.json()"
   ]
  },
  {
   "cell_type": "code",
   "execution_count": null,
   "metadata": {},
   "outputs": [],
   "source": [
    "agent = \"UNIGRW\"\n",
    "handle = res.json()[agent][\"handle\"]\n",
    "handle"
   ]
  },
  {
   "cell_type": "markdown",
   "metadata": {},
   "source": [
    "## Reading a handle"
   ]
  },
  {
   "cell_type": "code",
   "execution_count": null,
   "metadata": {},
   "outputs": [],
   "source": [
    "# get the handle record of given ID (recieved from the previous request)\n",
    "\n",
    "handle_scheme = \"samples\" # can be sample, device, substance, ...\n",
    "\n",
    "handle_id = \"1m1b-4a29\" #res.json()['handle_id']\n",
    "\n",
    "handle_record_url = f\"{test_api_base_url}/{handle_scheme}/{handle_id}\"\n",
    "\n",
    "\n",
    "res = pid_client.get(handle_record_url)\n",
    "display(res.url)\n",
    "res"
   ]
  },
  {
   "cell_type": "markdown",
   "metadata": {},
   "source": [
    "## Adding metadata to a handle"
   ]
  },
  {
   "cell_type": "code",
   "execution_count": null,
   "metadata": {},
   "outputs": [],
   "source": [
    "# adding metadata to a handle record, based on LinkML data model"
   ]
  },
  {
   "cell_type": "markdown",
   "metadata": {},
   "source": [
    "## Changing metadata of a handle"
   ]
  },
  {
   "cell_type": "code",
   "execution_count": null,
   "metadata": {},
   "outputs": [],
   "source": []
  },
  {
   "cell_type": "markdown",
   "metadata": {},
   "source": [
    "## Creating an alias for a handle"
   ]
  },
  {
   "cell_type": "code",
   "execution_count": null,
   "metadata": {},
   "outputs": [],
   "source": []
  },
  {
   "cell_type": "markdown",
   "metadata": {},
   "source": [
    "## Hiding PID from public view"
   ]
  },
  {
   "cell_type": "code",
   "execution_count": null,
   "metadata": {},
   "outputs": [],
   "source": []
  },
  {
   "cell_type": "markdown",
   "metadata": {},
   "source": [
    "## Delete a handle"
   ]
  },
  {
   "cell_type": "markdown",
   "metadata": {},
   "source": []
  }
 ],
 "metadata": {
  "kernelspec": {
   "display_name": "lara10",
   "language": "python",
   "name": "python3"
  },
  "language_info": {
   "codemirror_mode": {
    "name": "ipython",
    "version": 3
   },
   "file_extension": ".py",
   "mimetype": "text/x-python",
   "name": "python",
   "nbconvert_exporter": "python",
   "pygments_lexer": "ipython3",
   "version": "3.10.12"
  }
 },
 "nbformat": 4,
 "nbformat_minor": 2
}
